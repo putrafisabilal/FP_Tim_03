{
 "cells": [
  {
   "cell_type": "markdown",
   "id": "cf70e2e5",
   "metadata": {},
   "source": [
    "# **I. Import Libraries**"
   ]
  },
  {
   "cell_type": "code",
   "execution_count": null,
   "id": "63f1d489",
   "metadata": {},
   "outputs": [],
   "source": [
    "import os\n",
    "import random\n",
    "import shutil"
   ]
  },
  {
   "cell_type": "markdown",
   "id": "0ab3ba4c",
   "metadata": {},
   "source": [
    "# **II. Splitting Data**"
   ]
  },
  {
   "cell_type": "code",
   "execution_count": null,
   "id": "46d1f022",
   "metadata": {},
   "outputs": [
    {
     "name": "stdout",
     "output_type": "stream",
     "text": [
      "✅ Selesai splitting dataset (train/val saja)!\n"
     ]
    }
   ],
   "source": [
    "# Path awal\n",
    "BASE_DIR = 'dataset gabung'\n",
    "IMG_DIR = os.path.join(BASE_DIR, 'images')\n",
    "LBL_DIR = os.path.join(BASE_DIR, 'labels')\n",
    "\n",
    "# Rasio split\n",
    "train_ratio = 0.8\n",
    "val_ratio = 0.2\n",
    "\n",
    "# Ambil semua file image\n",
    "image_files = [f for f in os.listdir(IMG_DIR) if f.endswith(('.jpg', '.png', '.jpeg'))]\n",
    "\n",
    "# Acak data\n",
    "random.shuffle(image_files)\n",
    "\n",
    "# Hitung jumlah\n",
    "total = len(image_files)\n",
    "train_count = int(total * train_ratio)\n",
    "\n",
    "# Bagi file\n",
    "train_files = image_files[:train_count]\n",
    "val_files = image_files[train_count:]\n",
    "\n",
    "# Fungsi copy\n",
    "def copy_files(file_list, split):\n",
    "    img_target = os.path.join(BASE_DIR, split, 'images')\n",
    "    lbl_target = os.path.join(BASE_DIR, split, 'labels')\n",
    "    os.makedirs(img_target, exist_ok=True)\n",
    "    os.makedirs(lbl_target, exist_ok=True)\n",
    "\n",
    "    for filename in file_list:\n",
    "        # Salin gambar\n",
    "        shutil.copy2(os.path.join(IMG_DIR, filename), os.path.join(img_target, filename))\n",
    "\n",
    "        # Salin label\n",
    "        label_name = os.path.splitext(filename)[0] + '.txt'\n",
    "        src_label = os.path.join(LBL_DIR, label_name)\n",
    "        if os.path.exists(src_label):\n",
    "            shutil.copy2(src_label, os.path.join(lbl_target, label_name))\n",
    "        else:\n",
    "            print(f\"⚠️ Label untuk {filename} tidak ditemukan!\")\n",
    "\n",
    "# Proses split\n",
    "copy_files(train_files, '../train')\n",
    "copy_files(val_files, '../val')\n",
    "\n",
    "print(\"✅ Selesai splitting dataset (train/val)!\")\n"
   ]
  }
 ],
 "metadata": {
  "kernelspec": {
   "display_name": "h8_env",
   "language": "python",
   "name": "python3"
  },
  "language_info": {
   "codemirror_mode": {
    "name": "ipython",
    "version": 3
   },
   "file_extension": ".py",
   "mimetype": "text/x-python",
   "name": "python",
   "nbconvert_exporter": "python",
   "pygments_lexer": "ipython3",
   "version": "3.9.23"
  }
 },
 "nbformat": 4,
 "nbformat_minor": 5
}
